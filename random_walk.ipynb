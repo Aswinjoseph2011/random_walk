{
 "cells": [
  {
   "cell_type": "markdown",
   "metadata": {},
   "source": [
    "How many books do not have an original title [books.csv]?"
   ]
  },
  {
   "cell_type": "code",
   "execution_count": 2,
   "metadata": {},
   "outputs": [
    {
     "name": "stdout",
     "output_type": "stream",
     "text": [
      "The number of books without an original title is: 36\n"
     ]
    }
   ],
   "source": [
    "import pandas as pd\n",
    "\n",
    "df = pd.read_csv('books.csv')\n",
    "#df.head()\n",
    "\n",
    "# Count the number of rows where the 'original_title' column is empty or missing\n",
    "books_without_original_title = df['original_title'].isnull().sum()\n",
    "\n",
    "print(f'The number of books without an original title is: {books_without_original_title}')\n"
   ]
  },
  {
   "cell_type": "markdown",
   "metadata": {},
   "source": [
    "How many unique books are present in the dataset ? Evaluate based on the 'book_id' after removing records containing null values for original_title column in [books.csv] and corresponding records in [book_tags.csv] and [ratings.csv]"
   ]
  },
  {
   "cell_type": "code",
   "execution_count": 5,
   "metadata": {},
   "outputs": [
    {
     "name": "stdout",
     "output_type": "stream",
     "text": [
      "The number of unique books in the dataset after removing records with null values in the original_title column is: 363\n"
     ]
    }
   ],
   "source": [
    "import pandas as pd\n",
    "\n",
    "# Load books.csv\n",
    "books_df = pd.read_csv('books.csv')\n",
    "\n",
    "# Remove records with null values in the 'original_title' column\n",
    "books_df = books_df.dropna(subset=['original_title'])\n",
    "\n",
    "# Extract unique book_ids from the cleaned books_df\n",
    "unique_books = set(books_df['book_id'])\n",
    "\n",
    "# Load book_tags.csv\n",
    "book_tags_df = pd.read_csv('book_tags.csv')\n",
    "\n",
    "# Filter book_tags_df to include only records with book_ids present in unique_books\n",
    "book_tags_df = book_tags_df[book_tags_df['goodreads_book_id'].isin(unique_books)]\n",
    "\n",
    "# Load ratings.csv\n",
    "ratings_df = pd.read_csv('ratings.csv')\n",
    "\n",
    "# Filter ratings_df to include only records with book_ids present in unique_books\n",
    "ratings_df = ratings_df[ratings_df['book_id'].isin(unique_books)]\n",
    "\n",
    "# Get the number of unique books after filtering\n",
    "num_unique_books = len(unique_books)\n",
    "\n",
    "print(f'The number of unique books in the dataset after removing records with null values in the original_title column is: {num_unique_books}')\n"
   ]
  },
  {
   "cell_type": "markdown",
   "metadata": {},
   "source": [
    "How many unique users are present in the dataset [ratings.csv] ?"
   ]
  },
  {
   "cell_type": "code",
   "execution_count": 6,
   "metadata": {},
   "outputs": [
    {
     "name": "stdout",
     "output_type": "stream",
     "text": [
      "The number of unique users in the ratings dataset is: 40836\n"
     ]
    }
   ],
   "source": [
    "import pandas as pd\n",
    "\n",
    "# Load ratings.csv\n",
    "ratings_df = pd.read_csv('ratings.csv')\n",
    "\n",
    "# Get the number of unique users\n",
    "num_unique_users = ratings_df['user_id'].nunique()\n",
    "\n",
    "print(f'The number of unique users in the ratings dataset is: {num_unique_users}')\n"
   ]
  },
  {
   "cell_type": "markdown",
   "metadata": {},
   "source": [
    "How many unique tags are there in the dataset [book_tags.csv] ?"
   ]
  },
  {
   "cell_type": "code",
   "execution_count": 7,
   "metadata": {},
   "outputs": [
    {
     "name": "stdout",
     "output_type": "stream",
     "text": [
      "The number of unique tags in the book_tags dataset is: 3651\n"
     ]
    }
   ],
   "source": [
    "import pandas as pd\n",
    "\n",
    "# Load book_tags.csv\n",
    "book_tags_df = pd.read_csv('book_tags.csv')\n",
    "\n",
    "# Get the number of unique tags\n",
    "num_unique_tags = book_tags_df['tag_id'].nunique()\n",
    "\n",
    "print(f'The number of unique tags in the book_tags dataset is: {num_unique_tags}')\n"
   ]
  },
  {
   "cell_type": "markdown",
   "metadata": {},
   "source": [
    "Which tag_id is the most frequently used ie. mapped with the highest number of books [book_tags.csv] ? (In case of more than one tag, mention the tag id with the least numerical value)’."
   ]
  },
  {
   "cell_type": "code",
   "execution_count": 8,
   "metadata": {},
   "outputs": [
    {
     "name": "stdout",
     "output_type": "stream",
     "text": [
      "The tag_id that is most frequently used (mapped with the highest number of books) is: 4600\n"
     ]
    }
   ],
   "source": [
    "import pandas as pd\n",
    "\n",
    "# Load book_tags.csv\n",
    "book_tags_df = pd.read_csv('book_tags.csv')\n",
    "\n",
    "# Find the most frequently used tag_id\n",
    "most_used_tag_id = book_tags_df.groupby('tag_id').size().idxmax()\n",
    "\n",
    "print(f'The tag_id that is most frequently used (mapped with the highest number of books) is: {most_used_tag_id}')\n"
   ]
  },
  {
   "cell_type": "markdown",
   "metadata": {},
   "source": [
    "Which book (title) has the most number of counts of tags given by the user [book_tags.csv,books.csv] ."
   ]
  },
  {
   "cell_type": "code",
   "execution_count": 9,
   "metadata": {},
   "outputs": [
    {
     "name": "stdout",
     "output_type": "stream",
     "text": [
      "The book with the most number of counts of tags is: Beyond Band of Brothers: The War Memoirs of Major Dick Winters\n"
     ]
    }
   ],
   "source": [
    "import pandas as pd\n",
    "\n",
    "# Load book_tags.csv and books.csv\n",
    "book_tags_df = pd.read_csv('book_tags.csv')\n",
    "books_df = pd.read_csv('books.csv')\n",
    "\n",
    "# Merge book_tags_df with books_df to get book titles\n",
    "merged_df = pd.merge(book_tags_df, books_df[['book_id', 'title']], left_on='goodreads_book_id', right_on='book_id')\n",
    "\n",
    "# Find the book title with the most number of counts of tags\n",
    "most_tagged_book_title = merged_df.groupby('title')['count'].sum().idxmax()\n",
    "\n",
    "print(f'The book with the most number of counts of tags is: {most_tagged_book_title}')\n"
   ]
  },
  {
   "cell_type": "markdown",
   "metadata": {},
   "source": [
    "Plot a bar chart with top 20 unique tags in descending order of ‘user records’ (the number of users tagged the given tag_id with the goodreads_book_id) [book_tags.csv]"
   ]
  },
  {
   "cell_type": "code",
   "execution_count": 18,
   "metadata": {},
   "outputs": [
    {
     "data": {
      "image/png": "[encoded data removed]",
      "text/plain": [
       "<Figure size 864x576 with 1 Axes>"
      ]
     },
     "metadata": {
      "needs_background": "light"
     },
     "output_type": "display_data"
    }
   ],
   "source": [
    "import pandas as pd\n",
    "import matplotlib.pyplot as plt\n",
    "\n",
    "# Load book_tags.csv\n",
    "book_tags_df = pd.read_csv('book_tags.csv')\n",
    "\n",
    "# Calculate the number of user records for each tag_id\n",
    "tag_user_records = book_tags_df.groupby('tag_id')['count'].sum()\n",
    "\n",
    "# Sort the tags by the number of user records in descending order and take the top 20\n",
    "top_tags = tag_user_records.sort_values(ascending=False).head(20)\n",
    "\n",
    "# Plot the bar chart using the index and values directly\n",
    "plt.figure(figsize=(12, 8))\n",
    "top_tags.plot(kind='bar', color='skyblue')\n",
    "plt.xlabel('Tag IDs')\n",
    "plt.ylabel('Number of User Records')\n",
    "plt.title('Top 20 Tags by User Records')\n",
    "plt.xticks(rotation=45, ha='right')\n",
    "plt.tight_layout()\n",
    "plt.show()\n"
   ]
  },
  {
   "cell_type": "code",
   "execution_count": null,
   "metadata": {},
   "outputs": [],
   "source": []
  }
 ],
 "metadata": {
  "kernelspec": {
   "display_name": "Python 3",
   "language": "python",
   "name": "python3"
  },
  "language_info": {
   "codemirror_mode": {
    "name": "ipython",
    "version": 3
   },
   "file_extension": ".py",
   "mimetype": "text/x-python",
   "name": "python",
   "nbconvert_exporter": "python",
   "pygments_lexer": "ipython3",
   "version": "3.9.12"
  }
 },
 "nbformat": 4,
 "nbformat_minor": 2
}
